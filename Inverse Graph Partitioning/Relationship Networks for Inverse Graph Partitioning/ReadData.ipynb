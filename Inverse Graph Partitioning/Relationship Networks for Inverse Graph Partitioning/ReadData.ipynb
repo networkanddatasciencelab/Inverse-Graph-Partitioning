{
 "cells": [
  {
   "cell_type": "markdown",
   "metadata": {},
   "source": [
    "## Relationship Networks for Inverse Graph Partitioning"
   ]
  },
  {
   "cell_type": "markdown",
   "metadata": {},
   "source": [
    "We describe the relationship networks in four detention centers. In each detention center, we collect the personal information, social information, and case information of all detainees and construct their relations. Among these relations, the dataset concludes the relationship of joint crime, the relationship of fellow-townsman, and the relationship of the same type of crime. Thus, we provide multiple forms of relationship networks based on selecting different relationships, including single-layer unweighted relationship networks and multi-layer weighted relationship networks. We expect the reuse of this dataset will allow researchers to make progress on the study of inverse graph partitioning and anti-community detection."
   ]
  },
  {
   "cell_type": "markdown",
   "metadata": {},
   "source": [
    "There are four folders corresponding to the four detention centers A, B, C, and D. For folder A, it has two CSV files and three folders. These two CSV files, that is AF.csv and AM.csv, represent female and male desensitized source data table from detention center A. Other three folders contain single-layer, double-layer and triple-layer relationship networks respectively. The configuration of other folders is the same as that of folder A."
   ]
  },
  {
   "cell_type": "markdown",
   "metadata": {},
   "source": [
    "## Basic Information"
   ]
  },
  {
   "cell_type": "code",
   "execution_count": null,
   "metadata": {},
   "outputs": [],
   "source": [
    "import networkx as nx\n",
    "\n",
    "def ave(degree):\n",
    "    s_um = 0\n",
    "    for i in range(len(degree)):\n",
    "        s_um =s_um+i*degree[i]\n",
    "    return s_um/nx.number_of_nodes(G)\n",
    "\n",
    "#single-layer network\n",
    "detention = ['A','B','C','D']\n",
    "gender = ['M','F']\n",
    "networktype = ['cause','record','hometown','all_unweighted']\n",
    "print('single-layer network')\n",
    "for deten in detention:\n",
    "    for gen in gender:\n",
    "        for nettype in networktype:\n",
    "            G = nx.read_yaml(deten+'/single-layer network/'+deten+gen+'_'+nettype+'.yaml')\n",
    "            print(deten+gen+'_'+nettype+':')\n",
    "            degree = nx.degree_histogram(G)\n",
    "            print('nodes:%d, edges:%d, average degree:%.4f'  %(G.number_of_nodes(),G.number_of_edges(),ave(degree)))\n",
    "            \n",
    "#second-layer network\n",
    "detention = ['A','B','C','D']\n",
    "gender = ['M','F']\n",
    "networktype = ['cause_hometown','record_hometown']\n",
    "print('second-layer network')\n",
    "for deten in detention:\n",
    "    for gen in gender:\n",
    "        for nettype in networktype:\n",
    "            G = nx.read_yaml('SD/'+deten+'/second-layer network/'+deten+gen+'_'+nettype+'.yaml')\n",
    "            print(deten+gen+'_'+nettype+':')\n",
    "            degree = nx.degree_histogram(G)\n",
    "            print('nodes:%d, edges:%d, average degree:%.4f'  %(G.number_of_nodes(),G.number_of_edges(),ave(degree)))\n",
    "            \n",
    "#triple-layer network\n",
    "detention = ['A','B','C','D']\n",
    "gender = ['M','F']\n",
    "print('triple-layer network')\n",
    "for deten in detention:\n",
    "    for gen in gender:\n",
    "        for nettype in networktype:\n",
    "            G = nx.read_yaml('SD/'+deten+'/triple-layer network/'+deten+gen+'_all_weighted.yaml')\n",
    "            print(deten+gen+'_all_weighted:')\n",
    "            degree = nx.degree_histogram(G)\n",
    "            print('nodes:%d, edges:%d, average degree:%.4f'  %(G.number_of_nodes(),G.number_of_edges(),ave(degree)))"
   ]
  },
  {
   "cell_type": "markdown",
   "metadata": {},
   "source": [
    "## Topological Structure"
   ]
  },
  {
   "cell_type": "code",
   "execution_count": null,
   "metadata": {},
   "outputs": [],
   "source": [
    "import networkx as nx\n",
    "\n",
    "#single-layer network\n",
    "detention = ['A','B','C','D']\n",
    "gender = ['M','F']\n",
    "networktype = ['cause','record','hometown']\n",
    "print('single-layer network')\n",
    "for deten in detention:\n",
    "    for gen in gender:\n",
    "        for nettype in networktype:\n",
    "            G = nx.read_yaml('SD/'+deten+'/single-layer network/'+deten+gen+'_'+nettype+'.yaml')\n",
    "            print(deten+gen+'_'+nettype+':')\n",
    "             print('average clustering:%.4f, transitivity:%.4f, degree centrality:%.4f, closeness centrality:%.4f, betweenness centrality:%.4f, connected components:%d, max connected components:%d' \n",
    "                  %(nx.average_clustering(G),nx.transitivity(G),np.average(list(nx.degree_centrality(G).values())),\n",
    "                    np.average(list(nx.closeness_centrality(G).values())),np.average(list(nx.betweenness_centrality(G).values())), \n",
    "                    len(list(nx.connected_components(G))), len(max(nx.connected_components(G),key=len))))\n",
    "\n",
    "#second-layer network\n",
    "detention = ['A','B','C','D']\n",
    "gender = ['M','F']\n",
    "networktype = ['cause_hometown','record_hometown']\n",
    "print('second-layer network')\n",
    "for deten in detention:\n",
    "    for gen in gender:\n",
    "        for nettype in networktype:\n",
    "            G = nx.read_yaml('SD/'+deten+'/second-layer network/'+deten+gen+'_'+nettype+'.yaml')\n",
    "            print(deten+gen+'_'+nettype+':')\n",
    "            print('degree centrality:%.4f, closeness centrality:%.4f, connected components:%d, max connected components:%d' \n",
    "                  %(np.average(list(nx.degree_centrality(G).values())),np.average(list(nx.closeness_centrality(G).values())), \n",
    "                    len(list(nx.connected_components(G))), len(max(nx.connected_components(G),key=len))))\n",
    "            \n",
    "#triple-layer network\n",
    "detention = ['A','B','C','D']\n",
    "gender = ['M','F']\n",
    "print('triple-layer network')\n",
    "for deten in detention:\n",
    "    for gen in gender:\n",
    "        for nettype in networktype:\n",
    "            G = nx.read_yaml('SD/'+deten+'/triple-layer network/'+deten+gen+'_all_weighted.yaml')\n",
    "            print(deten+gen+'_all_weighted:')\n",
    "            print('nodes:%d, edges:%d, average degree:%.4f, degree centrality:%.4f, closeness centrality:%.4f, connected components:%d, max connected components:%d' \n",
    "                %(np.average(list(nx.degree_centrality(G).values())), np.average(list(nx.closeness_centrality(G).values())), \n",
    "                  len(list(nx.connected_components(G))), len(max(nx.connected_components(G),key=len))))"
   ]
  }
 ],
 "metadata": {
  "kernelspec": {
   "display_name": "Python 3",
   "language": "python",
   "name": "python3"
  },
  "language_info": {
   "codemirror_mode": {
    "name": "ipython",
    "version": 3
   },
   "file_extension": ".py",
   "mimetype": "text/x-python",
   "name": "python",
   "nbconvert_exporter": "python",
   "pygments_lexer": "ipython3",
   "version": "3.7.6"
  }
 },
 "nbformat": 4,
 "nbformat_minor": 4
}
